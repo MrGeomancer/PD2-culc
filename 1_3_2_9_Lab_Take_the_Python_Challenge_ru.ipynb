{
  "cells": [
    {
      "cell_type": "markdown",
      "metadata": {
        "id": "view-in-github",
        "colab_type": "text"
      },
      "source": [
        "<a href=\"https://colab.research.google.com/github/MrGeomancer/PD2-culc/blob/main/1_3_2_9_Lab_Take_the_Python_Challenge_ru.ipynb\" target=\"_parent\"><img src=\"https://colab.research.google.com/assets/colab-badge.svg\" alt=\"Open In Colab\"/></a>"
      ]
    },
    {
      "cell_type": "markdown",
      "metadata": {
        "id": "P6XMf0lI-ZQO"
      },
      "source": [
        "![Title](Images/cisco.png)\n",
        "\n",
        "### Анисимов Виктор НМТ-493512"
      ]
    },
    {
      "cell_type": "markdown",
      "metadata": {
        "id": "NoleYKKa-ZQQ"
      },
      "source": [
        "# Lab - Примите вызов Python \n",
        "\n",
        "\n",
        "Это необязательное упражнение, чтобы проверить Ваше понимание основ Python. Однако мы настоятельно рекомендуем ученику выполнить эти упражнения, чтобы подготовиться к остальной части этого курса. Если Вы не знаете, как их решить, изучите лекции Python, доступные в папке Course Materials / Tutorials and Demos."
      ]
    },
    {
      "cell_type": "markdown",
      "metadata": {
        "id": "NhABp-7A-ZQR"
      },
      "source": [
        "#### Ответьте на вопросы или выполните перечисленные ниже задачи, используйте описанный метод, если это применимо."
      ]
    },
    {
      "cell_type": "markdown",
      "metadata": {
        "id": "ZV8FEOH6-ZQR"
      },
      "source": [
        "#### 1) Сколько будет если 3 возвести в 5 степень?"
      ]
    },
    {
      "cell_type": "code",
      "execution_count": null,
      "metadata": {
        "colab": {
          "base_uri": "https://localhost:8080/"
        },
        "id": "GtkJkcZq-ZQS",
        "outputId": "97a28966-cae7-49d0-9fe5-24917deef6d3"
      },
      "outputs": [
        {
          "output_type": "stream",
          "name": "stdout",
          "text": [
            "243\n"
          ]
        }
      ],
      "source": [
        "# Ячейка для кода №1\n",
        "print(3**5)\n",
        "#243"
      ]
    },
    {
      "cell_type": "markdown",
      "metadata": {
        "id": "dy2CCVLg-ZQT"
      },
      "source": [
        "#### 2) Создайте переменную *`s`*, содержащую строку \"This course is amazing!\". Используя переменную, преобразуйте строку в список."
      ]
    },
    {
      "cell_type": "code",
      "execution_count": null,
      "metadata": {
        "colab": {
          "base_uri": "https://localhost:8080/"
        },
        "id": "6dWMyCuT-ZQT",
        "outputId": "9eb0e10c-722f-4e5e-9411-e14cf791df8b"
      },
      "outputs": [
        {
          "output_type": "execute_result",
          "data": {
            "text/plain": [
              "['This', 'course', 'is', 'amazing!']"
            ]
          },
          "metadata": {},
          "execution_count": 161
        }
      ],
      "source": [
        "# Ячейка для кода №2\n",
        "#s = ?\n",
        "#?.split()\n",
        "s = 'This course is amazing!'\n",
        "s.split()"
      ]
    },
    {
      "cell_type": "markdown",
      "metadata": {
        "id": "uSv7vQ_z-ZQT"
      },
      "source": [
        "#### 3) Учитывая переменные height и mountain, используйте .format(), чтобы напечатать следующую строку:\n",
        "<center>`The height of Mt. Everest is 8848 meters.`</center>"
      ]
    },
    {
      "cell_type": "code",
      "execution_count": null,
      "metadata": {
        "colab": {
          "base_uri": "https://localhost:8080/"
        },
        "id": "wYS70ulI-ZQU",
        "outputId": "9ad49308-705b-417d-b185-de23cd83d872"
      },
      "outputs": [
        {
          "output_type": "stream",
          "name": "stdout",
          "text": [
            "The height of Mt. Everest is 8848 meters\n"
          ]
        }
      ],
      "source": [
        "# Ячейка для кода №3\n",
        "mountain = \"Mt. Everest\"\n",
        "height = 8848\n",
        "#print(\"...\".format( ? , ? ))\n",
        "print('The height of {} is {} meters'.format(mountain,height))"
      ]
    },
    {
      "cell_type": "markdown",
      "metadata": {
        "id": "jtcwNlce-ZQU"
      },
      "source": [
        "#### 4) Учитывая следующий вложенный список, используйте индексирование, чтобы захватить слово `\"this\"`."
      ]
    },
    {
      "cell_type": "code",
      "execution_count": null,
      "metadata": {
        "colab": {
          "base_uri": "https://localhost:8080/"
        },
        "id": "SZhH1E30-ZQU",
        "outputId": "78053046-afa5-4059-ff86-3c6eb7f71dfe"
      },
      "outputs": [
        {
          "output_type": "stream",
          "name": "stdout",
          "text": [
            "this\n"
          ]
        }
      ],
      "source": [
        "# Ячейка для кода №4\n",
        "lst = ['a','b',[4,10,11],['c',[1,66,['this']],2,111],'e',7]\n",
        "#lst[?][?][?][?]\n",
        "print(lst[3][1][2][0])"
      ]
    },
    {
      "cell_type": "markdown",
      "metadata": {
        "id": "ez41pV-l-ZQV"
      },
      "source": [
        "#### 5) Учитывая следующий вложенный словарь, захватите слово \"that\". Это упражнение немного сложнее."
      ]
    },
    {
      "cell_type": "code",
      "execution_count": null,
      "metadata": {
        "colab": {
          "base_uri": "https://localhost:8080/"
        },
        "id": "00FFbkFM-ZQV",
        "outputId": "c877e004-dc5e-4ea1-f457-5275e72c36e6"
      },
      "outputs": [
        {
          "output_type": "stream",
          "name": "stdout",
          "text": [
            "that\n"
          ]
        }
      ],
      "source": [
        "# Ячейка для кода №5\n",
        "d = {'k1':['val1','val2','val3',{'we':['need','to','go',{'deeper':[1,2,3,'that']}]}]}\n",
        "#d[?][?][?][?][?][?]\n",
        "print(d['k1'][-1]['we'][-1]['deeper'][-1])"
      ]
    },
    {
      "cell_type": "markdown",
      "metadata": {
        "id": "HafUShYq-ZQV"
      },
      "source": [
        "#### 6) В чем основное отличие между кортежем и списком? "
      ]
    },
    {
      "cell_type": "markdown",
      "metadata": {
        "collapsed": true,
        "id": "jYW4pPr5-ZQV"
      },
      "source": [
        "Кортеж помещается в круглые скобки, список в квадратные. Неизменяемый тип данных"
      ]
    },
    {
      "cell_type": "markdown",
      "metadata": {
        "id": "ek-szPXG-ZQW"
      },
      "source": [
        "#### 7) Создайте функцию GetDomain(), которая берёт имя домена в адресе электронной почты из строки в формате: `user@domain.com`.\n",
        "Так, например, передав ей \"user@domain.com\" она вернет: domain.com"
      ]
    },
    {
      "cell_type": "code",
      "execution_count": null,
      "metadata": {
        "colab": {
          "base_uri": "https://localhost:8080/",
          "height": 36
        },
        "id": "yOW312Z3-ZQW",
        "outputId": "68045235-f60c-4581-b3b8-64380382f311"
      },
      "outputs": [
        {
          "output_type": "execute_result",
          "data": {
            "text/plain": [
              "'domain.com'"
            ],
            "application/vnd.google.colaboratory.intrinsic+json": {
              "type": "string"
            }
          },
          "metadata": {},
          "execution_count": 165
        }
      ],
      "source": [
        "# Ячейка для кода №6\n",
        "#def GetDomain(z):\n",
        "#    return ?.?()[-1]\n",
        "def GetDomain(Domain):\n",
        "  return (Domain.split('@')[-1])\n",
        "GetDomain('user@domain.com')"
      ]
    },
    {
      "cell_type": "markdown",
      "metadata": {
        "id": "ubPguiao-ZQW"
      },
      "source": [
        "#### 8) Создайте основную функцию findInternet(), которая вернет True, если слово 'Internet' содержится во входной строке. Не беспокойтесь о пограничных случаях как наличие символов пунктуации рядом со словом, но учитывайте регистр."
      ]
    },
    {
      "cell_type": "code",
      "execution_count": null,
      "metadata": {
        "colab": {
          "base_uri": "https://localhost:8080/",
          "height": 36
        },
        "id": "mEGlpb53-ZQW",
        "outputId": "4bc67493-d798-4952-fd6e-c32c96e50d4d"
      },
      "outputs": [
        {
          "output_type": "execute_result",
          "data": {
            "text/plain": [
              "'True'"
            ],
            "application/vnd.google.colaboratory.intrinsic+json": {
              "type": "string"
            }
          },
          "metadata": {},
          "execution_count": 166
        }
      ],
      "source": [
        "# Ячейка для кода №7\n",
        "#def findInternet(?):\n",
        "    #return 'internet' in ?.lower().split()\n",
        "def findInternet(text):\n",
        "  if 'Internet' in text:\n",
        "    return ('True')\n",
        "findInternet('The Internet Engineering Task Force was created in 1986')"
      ]
    },
    {
      "cell_type": "markdown",
      "metadata": {
        "id": "sMvA2Ssr-ZQX"
      },
      "source": [
        "#### 9) Создайте функцию countIoT(),  которая подсчитывает сколько раз слово \"IoT\" встречается в строке.  Игнорируйте пограничные случаи, но учитывайте регистр."
      ]
    },
    {
      "cell_type": "code",
      "execution_count": null,
      "metadata": {
        "colab": {
          "base_uri": "https://localhost:8080/"
        },
        "id": "LDI8zXS4-ZQX",
        "outputId": "fbe75737-f77e-49a6-8ac5-70f79fe71f63"
      },
      "outputs": [
        {
          "output_type": "execute_result",
          "data": {
            "text/plain": [
              "2"
            ]
          },
          "metadata": {},
          "execution_count": 167
        }
      ],
      "source": [
        "# Ячейка для кода №№8\n",
        "#def countIoT(st):\n",
        "#    \n",
        "#\n",
        "#\n",
        "#\n",
        "#    return count\n",
        "def countIoT(text):\n",
        "  x=text.split('IoT')\n",
        "  count=len(x)-1\n",
        "  return count\n",
        "countIoT('I don\\'t know how to spell IoT ! Is it IoT or iot ? What does iot mean anyway?')"
      ]
    },
    {
      "cell_type": "markdown",
      "metadata": {
        "id": "JzjybWYx-ZQX"
      },
      "source": [
        "#### 10) Используйте лямбда-выражение и функцию filter() для фильтрации слов из списка, которые не начинаются с буквы 'd'. Например:\n",
        "\n",
        "    seq = ['data','salt' ,'dairy','cat', 'dog']\n",
        "\n",
        "должно быть отфильтровано в:\n",
        "\n",
        "    ['data', 'dairy', 'dog']"
      ]
    },
    {
      "cell_type": "code",
      "execution_count": null,
      "metadata": {
        "colab": {
          "base_uri": "https://localhost:8080/"
        },
        "id": "uKi4DrxQ-ZQX",
        "outputId": "5544296b-4495-4f3f-cea1-57334ca86c8b"
      },
      "outputs": [
        {
          "output_type": "execute_result",
          "data": {
            "text/plain": [
              "['data', 'dairy', 'dog']"
            ]
          },
          "metadata": {},
          "execution_count": 168
        }
      ],
      "source": [
        "# Ячейка для кода №9\n",
        "seq = ['data','salt' ,'dairy','cat', 'dog']\n",
        "#list(filter(...))\n",
        "check = lambda x: True if x[0]=='d' else None\n",
        "list(filter(check,seq))"
      ]
    },
    {
      "cell_type": "markdown",
      "metadata": {
        "id": "T5fXX1tp-ZQY"
      },
      "source": [
        "#### 11) Используйте лямбда-выражение и функцию map() для преобразования списка слов в верхний регистр. Например:"
      ]
    },
    {
      "cell_type": "markdown",
      "metadata": {
        "id": "C7VOK2Jn-ZQY"
      },
      "source": [
        "seq = ['data','salt' ,'dairy','cat', 'dog']\n",
        "\n",
        "должно стать:\n",
        "\n",
        "   ['DATA', 'SALT', 'DAIRY', 'CAT', 'DOG']"
      ]
    },
    {
      "cell_type": "code",
      "execution_count": null,
      "metadata": {
        "colab": {
          "base_uri": "https://localhost:8080/"
        },
        "id": "-e6MCJTy-ZQY",
        "outputId": "3942c11f-79fb-403f-ce82-394ee9860f99"
      },
      "outputs": [
        {
          "output_type": "execute_result",
          "data": {
            "text/plain": [
              "['DATA', 'SALT', 'DAIRY', 'CAT', 'DOG']"
            ]
          },
          "metadata": {},
          "execution_count": 169
        }
      ],
      "source": [
        "# Ячейка для кода №10\n",
        "seq = ['data','salt' ,'dairy','cat', 'dog']\n",
        "up = lambda x: x.upper()\n",
        "#list(map())\n",
        "list(map(up,seq))"
      ]
    },
    {
      "cell_type": "markdown",
      "metadata": {
        "id": "rS6vVySM-ZQY"
      },
      "source": [
        "#### 12) Представьте себе интеллектуальный термостат, который соединен с дверью для того, чтобы он мог определять, помимо температуры, когда люди входят или выходят из дома.\n",
        "Напишите функцию, которая, при температуре ниже 20 градусов Цельсия, и наличии в доме людей (используйте переменную типа boolean, которая будет передана как параметр функции), включает нагрев, возвращая строку \"Heating on\". Когда температура достигает 23 градусов или если в доме нет людей, то она возвращает строку \"Heating off\". Когда ни одно из этих условий не выполняется, функция возвращает \"Do nothing\"."
      ]
    },
    {
      "cell_type": "code",
      "execution_count": null,
      "metadata": {
        "collapsed": true,
        "colab": {
          "base_uri": "https://localhost:8080/"
        },
        "id": "Q17-QCX7-ZQZ",
        "outputId": "9ef6c37b-1599-4cc2-af46-5082971fb0f9"
      },
      "outputs": [
        {
          "output_type": "stream",
          "name": "stdout",
          "text": [
            "Heating on\n",
            "Heating off\n",
            "Heating on\n",
            "Heating off\n",
            "Heating off\n"
          ]
        }
      ],
      "source": [
        "# Ячейка для кода №11\n",
        "#def smart_thermostat(temp, people_in):\n",
        "#    ...\n",
        "#    return command\n",
        "def smart_thermostat(temp, people_in):\n",
        "  if temp<23 and people_in==True:\n",
        "    print('Heating on')\n",
        "  elif temp>22 or people_in==False:\n",
        "    print('Heating off')\n",
        "  else:\n",
        "    print('Heating off')\n",
        "  \n",
        "# Ячейка для кода №12\n",
        "# Проверьте smart_thermostat()\n",
        "smart_thermostat(21,True)\n",
        "# Ячейка для кода №13\n",
        "# Проверьте smart_thermostat()\n",
        "smart_thermostat(21,False)\n",
        "smart_thermostat(15,True)\n",
        "smart_thermostat(19,False)\n",
        "smart_thermostat(23,True)"
      ]
    },
    {
      "cell_type": "code",
      "execution_count": null,
      "metadata": {
        "id": "qHgPTuKs-ZQZ"
      },
      "outputs": [],
      "source": []
    },
    {
      "cell_type": "code",
      "execution_count": null,
      "metadata": {
        "id": "U2Oi6tWU-ZQZ"
      },
      "outputs": [],
      "source": []
    },
    {
      "cell_type": "markdown",
      "metadata": {
        "id": "fD4Cm2mo-ZQZ"
      },
      "source": [
        "#### 13) Функция zip(list1, list2) возвращает список кортежей, где i-й кортеж содержит i-й элемент из каждого списка аргументов. Используйте функцию zip для создания следующего списка кортежей:"
      ]
    },
    {
      "cell_type": "markdown",
      "metadata": {
        "id": "4s4DoB-L-ZQZ"
      },
      "source": [
        "`zipped = [('Parking', -1), ('Shops',0), ('Food Court',1), ('Offices',2)]`"
      ]
    },
    {
      "cell_type": "code",
      "execution_count": null,
      "metadata": {
        "colab": {
          "base_uri": "https://localhost:8080/"
        },
        "id": "q9AUUh9P-ZQa",
        "outputId": "760dc29a-9753-4de7-e2bf-4ba03eadbb70"
      },
      "outputs": [
        {
          "output_type": "stream",
          "name": "stdout",
          "text": [
            "[('Parking', -1), ('Shops', 0), ('Food Court', 1), ('Offices', 2)]\n"
          ]
        }
      ],
      "source": [
        "# Ячейка для кода №14\n",
        "floor_types = ['Parking', 'Shops', 'Food Court', 'Offices']\n",
        "floor_numbers = range(-1,3)\n",
        "#zipped = list(...)\n",
        "zipped = list(zip(floor_types, floor_numbers)) \n",
        "print(zipped)"
      ]
    },
    {
      "cell_type": "markdown",
      "metadata": {
        "id": "g9FyiFdE-ZQa"
      },
      "source": [
        "#### 14) Используйте функцию zip и dict() для создания словаря elevator_dict, где в качестве ключей выступают типы этажей, а значениями являются соответствующие им номера этажей, чтобы:\n",
        "elevator_dict[-1] = 'Parking'"
      ]
    },
    {
      "cell_type": "code",
      "execution_count": null,
      "metadata": {
        "colab": {
          "base_uri": "https://localhost:8080/"
        },
        "id": "beWpsqkS-ZQa",
        "outputId": "470b3613-54c3-4067-8028-cce3989a8999"
      },
      "outputs": [
        {
          "output_type": "stream",
          "name": "stdout",
          "text": [
            "{'Parking': -1, 'Shops': 0, 'Food Court': 1, 'Offices': 2}\n"
          ]
        },
        {
          "output_type": "execute_result",
          "data": {
            "text/plain": [
              "2"
            ]
          },
          "metadata": {},
          "execution_count": 172
        }
      ],
      "source": [
        "# Ячейка для кода №15\n",
        "floor_types = ['Parking', 'Shops', 'Food Court', 'Offices']\n",
        "floors_numbers = range(-1,3)\n",
        "elevator_dict = dict(zipped)\n",
        "print(elevator_dict)\n",
        "# Ячейка для кода №16\n",
        "# Проверьте elevator_dict[-1]\n",
        "elevator_dict['Offices']"
      ]
    },
    {
      "cell_type": "code",
      "execution_count": null,
      "metadata": {
        "colab": {
          "base_uri": "https://localhost:8080/"
        },
        "id": "vC_qpdym-ZQa",
        "outputId": "51a41e24-ca3d-412b-ff09-442685ed0514"
      },
      "outputs": [
        {
          "output_type": "execute_result",
          "data": {
            "text/plain": [
              "2"
            ]
          },
          "metadata": {},
          "execution_count": 173
        }
      ],
      "source": [
        "# Ячейка для кода №16\n",
        "# Проверьте elevator_dict[-1]\n",
        "elevator_dict['Offices']"
      ]
    },
    {
      "cell_type": "markdown",
      "metadata": {
        "id": "cTnoEmKm-ZQa"
      },
      "source": [
        "#### 15) Создайте класс `Elevator`. Конструктор принимает список строк `floor_types` и список целых чисел `floor_numbers`. Класс реализует методы 'ask_which_floor' и 'go_to_floor'. Результат этих методов должен выглядеть следующим образом:\n",
        "`floor_types = ['Parking', 'Shops', 'Food Court', 'Offices']\n",
        "floors_numbers = range(-1,4)\n",
        "\n",
        "el = Elevator(floor_numbers, floor_types)\n",
        "\n",
        "el.go_to_floor(1)`\n",
        "\n",
        "`Going to Food Court floor!`\n",
        "\n",
        "`el.go_to_floor(-2)`\n",
        "\n",
        "`There is floor number -2 in this building.`\n",
        "\n",
        "`el.ask_which_floor('Offices')`\n",
        "\n",
        "`The floor Offices is the number: 2`\n",
        "\n",
        "`el.ask_which_floor('Swimming Pool')`\n",
        "\n",
        "`There is no Swimming Pool floor in this building.`"
      ]
    },
    {
      "cell_type": "code",
      "execution_count": null,
      "metadata": {
        "collapsed": true,
        "id": "3_sbGkar-ZQb",
        "colab": {
          "base_uri": "https://localhost:8080/"
        },
        "outputId": "bce9cd46-b3ef-45ae-90d2-821772676180"
      },
      "outputs": [
        {
          "output_type": "stream",
          "name": "stdout",
          "text": [
            "Going to Food Court floor!\n",
            "There is no floor number -2 in this building.\n",
            "The Offices floor is the number: 2.\n",
            "There is no Swimming Pool floor in this building.\n"
          ]
        }
      ],
      "source": [
        "# Ячейка для кода №17\n",
        "class Elevator:\n",
        "    \n",
        "    def __init__(self, floor_numbers, floor_types):\n",
        "        self._floor_numbers = floor_numbers\n",
        "        self._floor_types = floor_types\n",
        "        self._number_to_type_dict = dict(zip(floor_numbers, floor_types)) \n",
        "        self._type_to_number_dict = dict(zip(floor_types, floor_numbers)) \n",
        "        \n",
        "    def ask_which_floor(self, floor_type):    \n",
        "        if floor_type in self._floor_types:\n",
        "            print('The {} floor is the number: {}.'.format(floor_type, self._type_to_number_dict[floor_type]))\n",
        "        else:\n",
        "            print('There is no {} floor in this building.'.format(floor_type))\n",
        "    \n",
        "    def go_to_floor(self, floor_number):\n",
        "        if floor_number>2 or floor_number<-1:\n",
        "            print('There is no floor number {} in this building.'.format(floor_number))\n",
        "        else:\n",
        "            print(f'Going to {self._number_to_type_dict[floor_number]} floor!')\n",
        "        # else:\n",
        "        #     print(f'Going to {floor_number} floor!')\n",
        "\n",
        "# Проверьте ячейку для кода 18\n",
        "el = Elevator(floor_numbers, floor_types)\n",
        "el.go_to_floor(1)\n",
        "# Проверьте ячейку для кода 19\n",
        "el.go_to_floor(-2)\n",
        "# Проверьте ячейку для кода 20\n",
        "el.ask_which_floor('Offices')\n",
        "# Проверьте ячейку для кода 21\n",
        "el.ask_which_floor('Swimming Pool')"
      ]
    },
    {
      "cell_type": "code",
      "execution_count": null,
      "metadata": {
        "id": "M79vfSfj-ZQb",
        "colab": {
          "base_uri": "https://localhost:8080/"
        },
        "outputId": "4abfd351-9c49-464d-b9a2-4b54dc1aa595"
      },
      "outputs": [
        {
          "output_type": "stream",
          "name": "stdout",
          "text": [
            "Going to Food Court floor!\n"
          ]
        }
      ],
      "source": [
        "# Проверьте ячейку для кода 18\n",
        "el = Elevator(floor_numbers, floor_types)\n",
        "el.go_to_floor(1)"
      ]
    },
    {
      "cell_type": "code",
      "execution_count": null,
      "metadata": {
        "id": "Hldd_5er-ZQb",
        "colab": {
          "base_uri": "https://localhost:8080/"
        },
        "outputId": "624f17c5-b741-4c95-dc67-b66759af4b50"
      },
      "outputs": [
        {
          "output_type": "stream",
          "name": "stdout",
          "text": [
            "There is no floor number 3 in this building.\n"
          ]
        }
      ],
      "source": [
        "# Проверьте ячейку для кода 19\n",
        "el.go_to_floor(3)"
      ]
    },
    {
      "cell_type": "code",
      "execution_count": null,
      "metadata": {
        "scrolled": true,
        "colab": {
          "base_uri": "https://localhost:8080/"
        },
        "id": "jCX5mhLd-ZQb",
        "outputId": "0e4dfa16-b489-431d-c695-3d7c3cac306e"
      },
      "outputs": [
        {
          "output_type": "stream",
          "name": "stdout",
          "text": [
            "The Offices floor is the number: 2.\n"
          ]
        }
      ],
      "source": [
        "# Проверьте ячейку для кода 20\n",
        "el.ask_which_floor('Offices')"
      ]
    },
    {
      "cell_type": "code",
      "source": [],
      "metadata": {
        "id": "l7NNN-u7oMIR"
      },
      "execution_count": null,
      "outputs": []
    },
    {
      "cell_type": "code",
      "execution_count": null,
      "metadata": {
        "colab": {
          "base_uri": "https://localhost:8080/"
        },
        "id": "QCzwCtjW-ZQc",
        "outputId": "d245677e-5b65-433e-de90-8267d784870e"
      },
      "outputs": [
        {
          "output_type": "stream",
          "name": "stdout",
          "text": [
            "There is no Swimming Pool floor in this building.\n"
          ]
        }
      ],
      "source": [
        "# Проверьте ячейку для кода 21\n",
        "el.ask_which_floor('Swimming Pool')"
      ]
    },
    {
      "cell_type": "markdown",
      "metadata": {
        "id": "F19uMdsG-ZQc"
      },
      "source": [
        "# Отличная работа!"
      ]
    },
    {
      "cell_type": "markdown",
      "metadata": {
        "collapsed": true,
        "id": "g8487NDP-ZQc"
      },
      "source": [
        "<font size='0.5'>&copy; 2017 Cisco and/or its affiliates. All rights reserved. This document is Cisco Public.<font>"
      ]
    }
  ],
  "metadata": {
    "anaconda-cloud": {},
    "kernelspec": {
      "display_name": "Python 3",
      "language": "python",
      "name": "python3"
    },
    "language_info": {
      "codemirror_mode": {
        "name": "ipython",
        "version": 3
      },
      "file_extension": ".py",
      "mimetype": "text/x-python",
      "name": "python",
      "nbconvert_exporter": "python",
      "pygments_lexer": "ipython3",
      "version": "3.7.0"
    },
    "colab": {
      "provenance": [],
      "include_colab_link": true
    }
  },
  "nbformat": 4,
  "nbformat_minor": 0
}